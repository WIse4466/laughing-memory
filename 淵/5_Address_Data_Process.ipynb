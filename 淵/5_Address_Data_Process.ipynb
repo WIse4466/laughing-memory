{
  "cells": [
    {
      "cell_type": "code",
      "execution_count": 1,
      "id": "4e1f2c51",
      "metadata": {},
      "outputs": [],
      "source": [
        "from google.oauth2 import service_account\n",
        "from google.cloud import bigquery\n",
        "from google.cloud.exceptions import NotFound\n",
        "import pandas as pd\n",
        "from google.cloud import storage\n",
        "import matplotlib.pyplot as plt\n",
        "import numpy as np\n",
        "import os"
      ]
    },
    {
      "cell_type": "code",
      "execution_count": 2,
      "id": "67a7cfa2",
      "metadata": {},
      "outputs": [],
      "source": [
        "project_id = \"looker-assignment-113356033\"\n",
        "dataset_id = \"final_project_dataset\""
      ]
    },
    {
      "cell_type": "code",
      "execution_count": 3,
      "id": "831517a6",
      "metadata": {},
      "outputs": [],
      "source": [
        "crendentials = service_account.Credentials.from_service_account_file(r\"C:\\nccu\\workspace\\dataModel_finalProjrct\\looker-assignment-113356033-4959799503ac.json\")"
      ]
    },
    {
      "cell_type": "code",
      "execution_count": 4,
      "id": "0ee02b4a",
      "metadata": {},
      "outputs": [],
      "source": [
        "bigquery_client = bigquery.Client(project=project_id, credentials=crendentials)\n",
        "storage_client = storage.Client(credentials=crendentials, project=project_id)"
      ]
    },
    {
      "cell_type": "code",
      "execution_count": 5,
      "id": "c259523f",
      "metadata": {},
      "outputs": [
        {
          "name": "stderr",
          "output_type": "stream",
          "text": [
            "C:\\Users\\wise\\AppData\\Roaming\\Python\\Python312\\site-packages\\google\\cloud\\bigquery\\table.py:1727: UserWarning: BigQuery Storage module not found, fetch data with the REST endpoint instead.\n",
            "  warnings.warn(\n"
          ]
        }
      ],
      "source": [
        "Bonk_token_balances_query = \"\"\"\n",
        "SELECT\n",
        "    *\n",
        "FROM `looker-assignment-113356033.transfer_all.Bonk_token_balances`\n",
        "ORDER BY year_month\n",
        "\"\"\"\n",
        "\n",
        "Floki_token_balances_query = \"\"\"\n",
        "SELECT\n",
        "    *\n",
        "FROM `looker-assignment-113356033.transfer_all.Bonk_token_balances`\n",
        "ORDER BY year_month\n",
        "\"\"\"\n",
        "\n",
        "Mog_token_balances_query = \"\"\"\n",
        "SELECT\n",
        "    *\n",
        "FROM `looker-assignment-113356033.transfer_all.Bonk_token_balances`\n",
        "ORDER BY year_month\n",
        "\"\"\"\n",
        "\n",
        "Pepe_token_balances_query = \"\"\"\n",
        "SELECT\n",
        "    *\n",
        "FROM `looker-assignment-113356033.transfer_all.Bonk_token_balances`\n",
        "ORDER BY year_month\n",
        "\"\"\"\n",
        "\n",
        "Shib_token_balances_query = \"\"\"\n",
        "SELECT\n",
        "    *\n",
        "FROM `looker-assignment-113356033.transfer_all.Bonk_token_balances`\n",
        "ORDER BY year_month\n",
        "\"\"\"\n",
        "\n",
        "Bonk_token_balances = bigquery_client.query(Bonk_token_balances_query).to_dataframe() "
      ]
    },
    {
      "cell_type": "code",
      "execution_count": null,
      "id": "17d11303-80e3-4c94-921d-9ff0faae20ca",
      "metadata": {
        "id": "17d11303-80e3-4c94-921d-9ff0faae20ca",
        "outputId": "89413cff-8ee3-4cf3-beb2-390a1aa7f50e"
      },
      "outputs": [
        {
          "name": "stdout",
          "output_type": "stream",
          "text": [
            "[INFO] 文件 Floki_compare_holders.csv 已處理完成，結果保存到 transform_data\\processed_Floki_compare_holders.csv\n",
            "[INFO] 文件 Bonk_compare_holders.csv 已處理完成，結果保存到 transform_data\\processed_Bonk_compare_holders.csv\n",
            "[INFO] 文件 Mog_compare_holders.csv 已處理完成，結果保存到 transform_data\\processed_Mog_compare_holders.csv\n",
            "[INFO] 文件 Shib_compare_holders.csv 已處理完成，結果保存到 transform_data\\processed_Shib_compare_holders.csv\n",
            "[INFO] 文件 Pepe_compare_holders.csv 已處理完成，結果保存到 transform_data\\processed_Pepe_compare_holders.csv\n",
            "[INFO] 所有文件已處理完成。\n"
          ]
        }
      ],
      "source": [
        "# Queries for each token holder dataset\n",
        "queries = {\n",
        "    \"Bonk\": \"\"\"\n",
        "        SELECT\n",
        "            *\n",
        "        FROM `looker-assignment-113356033.final_project_dataset.Bonk_compare_holders`\n",
        "    \"\"\",\n",
        "    \"FLOKI\": \"\"\"\n",
        "        SELECT\n",
        "            *\n",
        "        FROM `looker-assignment-113356033.final_project_dataset.FLOKI_compare_holders`\n",
        "    \"\"\",\n",
        "    \"Mog\": \"\"\"\n",
        "        SELECT\n",
        "            *\n",
        "        FROM `looker-assignment-113356033.final_project_dataset.Mog_compare_holders`\n",
        "    \"\"\",\n",
        "    \"Pepe\": \"\"\"\n",
        "        SELECT\n",
        "            *\n",
        "        FROM `looker-assignment-113356033.final_project_dataset.Pepe_compare_holders`\n",
        "    \"\"\",\n",
        "    \"Shib\": \"\"\"\n",
        "        SELECT\n",
        "            *\n",
        "        FROM `looker-assignment-113356033.final_project_dataset.Shib_compare_holders`\n",
        "    \"\"\"\n",
        "}\n",
        "\n",
        "try:\n",
        "    # 處理每個代幣\n",
        "    for token_name, query in queries.items():\n",
        "        try:\n",
        "            # 執行 BigQuery 查詢並載入 DataFrame\n",
        "            df = bigquery_client.query(query).to_dataframe()\n",
        "\n",
        "            # 檢查是否有 'Address' 和 'Balance' 欄位\n",
        "            if 'Address' in df.columns and 'Balance' in df.columns:\n",
        "                # 根據 Address 聚合，對 Balance 進行加總，保留所有其他欄位\n",
        "                aggregated_df = df.groupby('Address', as_index=False).agg({\n",
        "                    col: 'first' if col not in ['Balance'] else 'sum'\n",
        "                    for col in df.columns\n",
        "                })\n",
        "\n",
        "                # 篩選 Balance > 0 的行\n",
        "                aggregated_df = aggregated_df[aggregated_df['Balance'] > 0]\n",
        "\n",
        "                # 排序結果（可選）\n",
        "                aggregated_df = aggregated_df.sort_values(by='Balance', ascending=False).reset_index(drop=True)\n",
        "\n",
        "                # 保存結果到 CSV 文件\n",
        "                output_file = f'processed_{token_name}_compare_holders.csv'\n",
        "                aggregated_df.to_csv(output_file, index=False)\n",
        "\n",
        "                print(f\"[INFO] {token_name} 資料已處理完成，結果保存到 {output_file}\")\n",
        "\n",
        "            else:\n",
        "                print(f\"[WARNING] {token_name} 資料缺少 'Address' 或 'Balance' 欄位，已跳過。\")\n",
        "\n",
        "        except Exception as e:\n",
        "            print(f\"[ERROR] 無法處理 {token_name} 資料: {e}\")\n",
        "\n",
        "    print(\"[INFO] 所有文件已處理完成。\")\n",
        "\n",
        "except Exception as e:\n",
        "    print(f\"[ERROR] 發生錯誤: {e}\")"
      ]
    },
    {
      "cell_type": "code",
      "execution_count": null,
      "id": "f73d019c-c99b-4cb3-93cd-2cca6d29499c",
      "metadata": {
        "id": "f73d019c-c99b-4cb3-93cd-2cca6d29499c",
        "outputId": "7fc29df9-6422-4c6b-93ec-a7fb4b2888f1"
      },
      "outputs": [
        {
          "name": "stdout",
          "output_type": "stream",
          "text": [
            "[INFO] 文件 processed_Floki_compare_holders.csv 已處理完成\n",
            "Hold FLOKI    91507\n",
            "Hold PEPE     17503\n",
            "Hold SHIB     22425\n",
            "Hold MOG       3439\n",
            "Hold BONK      1816\n",
            "dtype: int64\n",
            "[INFO] 文件 processed_Bonk_compare_holders.csv 已處理完成\n",
            "Hold FLOKI     1822\n",
            "Hold PEPE      5052\n",
            "Hold SHIB      3512\n",
            "Hold MOG       1192\n",
            "Hold BONK     14991\n",
            "dtype: int64\n",
            "[INFO] 文件 processed_Mog_compare_holders.csv 已處理完成\n",
            "Hold FLOKI     3981\n",
            "Hold PEPE     16605\n",
            "Hold SHIB      5992\n",
            "Hold MOG      50959\n",
            "Hold BONK      1353\n",
            "dtype: int64\n",
            "[INFO] 文件 processed_Shib_compare_holders.csv 已處理完成\n",
            "Hold FLOKI      21768\n",
            "Hold PEPE       71069\n",
            "Hold SHIB     1594515\n",
            "Hold MOG         5022\n",
            "Hold BONK        3354\n",
            "dtype: int64\n",
            "[INFO] 文件 processed_Pepe_compare_holders.csv 已處理完成\n",
            "Hold FLOKI     19006\n",
            "Hold PEPE     399324\n",
            "Hold SHIB      75003\n",
            "Hold MOG       15518\n",
            "Hold BONK       5295\n",
            "dtype: int64\n"
          ]
        }
      ],
      "source": [
        "# 目錄包含所有文件\n",
        "directory_path = 'transform_data'\n",
        "\n",
        "# 文件名稱列表\n",
        "file_names = [\n",
        "    'processed_Floki_compare_holders.csv',\n",
        "    'processed_Bonk_compare_holders.csv',\n",
        "    'processed_Mog_compare_holders.csv',\n",
        "    'processed_Shib_compare_holders.csv',\n",
        "    'processed_Pepe_compare_holders.csv'\n",
        "]\n",
        "for file_name in file_names:\n",
        "    file_path = os.path.join(directory_path, file_name)\n",
        "\n",
        "    print(f\"[INFO] 文件 {file_name} 已處理完成\")\n",
        "\n",
        "    # 讀取 CSV 文件\n",
        "    df = pd.read_csv(file_path)\n",
        "    token_columns = ['Hold FLOKI', 'Hold PEPE', 'Hold SHIB', 'Hold MOG', 'Hold BONK']\n",
        "    column_sums = (df[token_columns]).sum()\n",
        "    print(column_sums)"
      ]
    },
    {
      "cell_type": "code",
      "execution_count": null,
      "id": "e821f51d-bbf5-404b-bb30-e437b3d8c4d6",
      "metadata": {
        "id": "e821f51d-bbf5-404b-bb30-e437b3d8c4d6"
      },
      "outputs": [],
      "source": []
    }
  ],
  "metadata": {
    "colab": {
      "provenance": []
    },
    "kernelspec": {
      "display_name": "base",
      "language": "python",
      "name": "python3"
    },
    "language_info": {
      "codemirror_mode": {
        "name": "ipython",
        "version": 3
      },
      "file_extension": ".py",
      "mimetype": "text/x-python",
      "name": "python",
      "nbconvert_exporter": "python",
      "pygments_lexer": "ipython3",
      "version": "3.12.4"
    }
  },
  "nbformat": 4,
  "nbformat_minor": 5
}
